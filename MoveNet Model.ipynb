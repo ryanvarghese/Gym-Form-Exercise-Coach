{
 "cells": [
  {
   "cell_type": "markdown",
   "metadata": {},
   "source": [
    "# 0. Install and Import Dependencies"
   ]
  },
  {
   "cell_type": "code",
   "execution_count": null,
   "metadata": {},
   "outputs": [],
   "source": []
  },
  {
   "cell_type": "code",
   "execution_count": 1,
   "metadata": {},
   "outputs": [],
   "source": [
    "import tensorflow as tf\n",
    "import numpy as np\n",
    "from matplotlib import pyplot as plt\n",
    "import cv2"
   ]
  },
  {
   "cell_type": "markdown",
   "metadata": {},
   "source": [
    "# 1. Load Model"
   ]
  },
  {
   "cell_type": "code",
   "execution_count": 2,
   "metadata": {},
   "outputs": [],
   "source": [
    "interpreter = tf.lite.Interpreter(model_path='D:\\Programming\\ML Projects\\Lib\\site-packages\\lite-model_movenet_singlepose_thunder_3.tflite')\n",
    "interpreter.allocate_tensors()"
   ]
  },
  {
   "cell_type": "markdown",
   "metadata": {},
   "source": [
    "# 2. Make Detections"
   ]
  },
  {
   "cell_type": "markdown",
   "metadata": {},
   "source": [
    "# 3. Draw Keypoints"
   ]
  },
  {
   "cell_type": "code",
   "execution_count": 3,
   "metadata": {
    "scrolled": true
   },
   "outputs": [],
   "source": [
    "\n",
    "def calculate_angle(a,b,c):\n",
    "\n",
    "    radians =np.arctan2(c[1]-b[1],c[0]-b[0])-np.arctan2(a[1]-b[1],a[0]-b[0])\n",
    "    angle =np.abs(radians*180.0/np.pi)\n",
    "    \n",
    "    if angle>180.0:\n",
    "        angle = 360-angle\n",
    "    \n",
    "    return angle\n",
    "\n",
    "def draw_keypoints(frame, keypoints, confidence_threshold):\n",
    "    y, x, c = frame.shape\n",
    "    shaped = np.squeeze(np.multiply(keypoints, [y,x,1]))\n",
    "    \n",
    "    for kp in shaped:\n",
    "        ky, kx, kp_conf = kp\n",
    "        if kp_conf > confidence_threshold:\n",
    "            cv2.circle(frame, (int(kx), int(ky)), 4, (0,255,0), -1) \n",
    " \n",
    "EDGES = {\n",
    "    (0, 1): 'm',\n",
    "    (0, 2): 'c',\n",
    "    (1, 3): 'm',\n",
    "    (2, 4): 'c',\n",
    "    (0, 5): 'm',\n",
    "    (0, 6): 'c',\n",
    "    (5, 7): 'm',\n",
    "    (7, 9): 'm',\n",
    "    (6, 8): 'c',\n",
    "    (8, 10): 'c',\n",
    "    (5, 6): 'y',\n",
    "    (5, 11): 'm',\n",
    "    (6, 12): 'c',\n",
    "    (11, 12): 'y',\n",
    "    (11, 13): 'm',\n",
    "    (13, 15): 'm',\n",
    "    (12, 14): 'c',\n",
    "    (14, 16): 'c'\n",
    "}\n",
    "#knee and hip\n",
    "def squat(left_shoulder,left_hip,left_knee,left_ankle):\n",
    "    angle1 = calculate_angle(left_shoulder,left_hip,left_knee)\n",
    "    angle2 = calculate_angle(left_hip,left_knee,left_ankle)\n",
    "    cv2.putText(frame, str(angle1),[120,120],cv2.FONT_HERSHEY_SIMPLEX,0.5,(255,0,0),2,cv2.LINE_AA)\n",
    "    cv2.putText(frame, str(angle2),[240,240],cv2.FONT_HERSHEY_SIMPLEX,0.5,(255,0,0),2,cv2.LINE_AA)\n",
    "\n",
    "#armpit and elbow\n",
    "def overhead_press(left_shoulder, left_elbow, left_wrist,right_shoulder, right_elbow, right_wrist, left_hip, right_hip):\n",
    "    angle1 = calculate_angle(left_shoulder,left_elbow,left_wrist)\n",
    "    angle2 = calculate_angle(right_shoulder, right_elbow, right_wrist)\n",
    "    angle3 = calculate_angle(left_elbow, left_shoulder, left_hip)\n",
    "    angle4 = calculate_angle(right_elbow, right_shoulder, right_hip)\n",
    "    cv2.putText(frame, str(angle1),[120,120],cv2.FONT_HERSHEY_SIMPLEX,0.5,(255,255,255),2,cv2.LINE_AA)\n",
    "    cv2.putText(frame, str(angle2),[150,150],cv2.FONT_HERSHEY_SIMPLEX,0.5,(255,255,255),2,cv2.LINE_AA)\n",
    "    cv2.putText(frame, str(angle3),[190,190],cv2.FONT_HERSHEY_SIMPLEX,0.5,(255,255,255),2,cv2.LINE_AA)\n",
    "    cv2.putText(frame, str(angle4),[240,240],cv2.FONT_HERSHEY_SIMPLEX,0.5,(255,255,255),2,cv2.LINE_AA)\n",
    "    \n",
    "#benchpress\n",
    "def benchpress(left_shoulder, left_elbow, left_wrist,right_shoulder, right_elbow, right_wrist):\n",
    "    angle1 = calculate_angle(left_shoulder,left_elbow,left_wrist)\n",
    "    angle2 = calculate_angle(right_shoulder, right_elbow, right_wrist)\n",
    "    cv2.putText(frame, str(angle1),[120,120],cv2.FONT_HERSHEY_SIMPLEX,0.5,(255,255,255),2,cv2.LINE_AA)\n",
    "    cv2.putText(frame, str(angle2),[150,150],cv2.FONT_HERSHEY_SIMPLEX,0.5,(255,255,255),2,cv2.LINE_AA)\n",
    "\n",
    "\n",
    "#knee ,hip and back length\n",
    "\n",
    "#back arch\n",
    "def arch(nose , left_shoulder, left_hip,frame):\n",
    "    angle1 = calculate_angle(nose , left_shoulder, left_hip)\n",
    "    \n",
    "    if(angle1 <100):\n",
    "            cv2.putText(frame,\"BACK BENDING\",[150,140],cv2.FONT_HERSHEY_SIMPLEX,0.5,(0,0,0),1,cv2.LINE_AA)    \n",
    "    cv2.putText(frame, str(angle1),[120,120],cv2.FONT_HERSHEY_SIMPLEX,0.5,(0,0,0),2,cv2.LINE_AA)\n",
    "\n",
    "\n",
    "def draw_connections(frame, keypoints, edges, confidence_threshold):\n",
    "    y, x, c = frame.shape\n",
    "    shaped = np.squeeze(np.multiply(keypoints, [y,x,1]))\n",
    "    \n",
    "    for edge, color in edges.items():\n",
    "        p1, p2 = edge\n",
    "        y1, x1, c1 = shaped[p1]\n",
    "        y2, x2, c2 = shaped[p2]\n",
    "        \n",
    "        if (c1 > confidence_threshold) & (c2 > confidence_threshold):      \n",
    "            cv2.line(frame, (int(x1), int(y1)), (int(x2), int(y2)), (0,0,255), 2)\n",
    "            \n",
    "def knee_bend(frame):\n",
    "     cv2.putText(frame,\"Knee bending too much\",(15,12),cv2.FONT_HERSHEY_SIMPLEX,0.5,(255,255,255),1,cv2.LINE_AA)\n",
    "\n",
    "        \n",
    "cap = cv2.VideoCapture(\"Overhead_press _frontview.mp4\")\n",
    "while cap.isOpened():\n",
    "    ret, frame = cap.read()\n",
    "    \n",
    "    # Reshape image\n",
    "    img = frame.copy() \n",
    "    img = tf.image.resize_with_pad(np.expand_dims(img, axis=0), 256,256)\n",
    "    input_image = tf.cast(img, dtype=tf.float32)\n",
    "    \n",
    "    # Setup input and output \n",
    "    input_details = interpreter.get_input_details()\n",
    "    output_details = interpreter.get_output_details()\n",
    "    \n",
    "    # Make predictions \n",
    "    interpreter.set_tensor(input_details[0]['index'], np.array(input_image))\n",
    "    interpreter.invoke()\n",
    "    keypoints_with_scores = interpreter.get_tensor(output_details[0]['index'])\n",
    "    \n",
    "    # Rendering \n",
    "    draw_connections(frame, keypoints_with_scores, EDGES, 0.4)\n",
    "    draw_keypoints(frame, keypoints_with_scores, 0.4)\n",
    "    \n",
    "    \n",
    "    left_shoulder = [keypoints_with_scores[0][0][5][0],keypoints_with_scores[0][0][5][1]]\n",
    "    left_elbow = [keypoints_with_scores[0][0][7][0],keypoints_with_scores[0][0][7][1]]\n",
    "    left_wrist = [keypoints_with_scores[0][0][9][0],keypoints_with_scores[0][0][9][1]]\n",
    "   \n",
    "        \n",
    "    right_shoulder = [keypoints_with_scores[0][0][6][0],keypoints_with_scores[0][0][6][1]]\n",
    "    right_elbow = [keypoints_with_scores[0][0][8][0],keypoints_with_scores[0][0][8][1]]\n",
    "    right_wrist = [keypoints_with_scores[0][0][10][0],keypoints_with_scores[0][0][10][1]]\n",
    "\n",
    "    left_hip = [keypoints_with_scores[0][0][11][0],keypoints_with_scores[0][0][11][1]]\n",
    "\n",
    "    right_hip = [keypoints_with_scores[0][0][12][0],keypoints_with_scores[0][0][12][1]]\n",
    "\n",
    "\n",
    "    overhead_press(left_shoulder, left_elbow, left_wrist,right_shoulder, right_elbow, right_wrist, left_hip, right_hip)\n",
    "    cv2.rectangle(frame,(0,0),(255,73),(245,117,16),-1)\n",
    "\n",
    "    cv2.imshow('MoveNet Thunder', frame)\n",
    "    \n",
    "    if cv2.waitKey(10) & 0xFF==ord('q'):\n",
    "        break\n",
    "        \n",
    "cap.release()\n",
    "cv2.destroyAllWindows()"
   ]
  },
  {
   "cell_type": "markdown",
   "metadata": {},
   "source": [
    "# 4. Draw Edges"
   ]
  },
  {
   "cell_type": "code",
   "execution_count": null,
   "metadata": {},
   "outputs": [],
   "source": []
  },
  {
   "cell_type": "code",
   "execution_count": null,
   "metadata": {},
   "outputs": [],
   "source": []
  },
  {
   "cell_type": "code",
   "execution_count": null,
   "metadata": {},
   "outputs": [],
   "source": []
  }
 ],
 "metadata": {
  "kernelspec": {
   "display_name": "Python 3",
   "language": "python",
   "name": "python3"
  },
  "language_info": {
   "codemirror_mode": {
    "name": "ipython",
    "version": 3
   },
   "file_extension": ".py",
   "mimetype": "text/x-python",
   "name": "python",
   "nbconvert_exporter": "python",
   "pygments_lexer": "ipython3",
   "version": "3.8.8"
  }
 },
 "nbformat": 4,
 "nbformat_minor": 2
}
